{
 "cells": [
  {
   "cell_type": "markdown",
   "metadata": {},
   "source": [
    "# Геокодирование адресов с использованием Yandex.geocoder"
   ]
  },
  {
   "cell_type": "code",
   "execution_count": null,
   "metadata": {},
   "outputs": [],
   "source": [
    "import requests"
   ]
  },
  {
   "cell_type": "code",
   "execution_count": null,
   "metadata": {},
   "outputs": [],
   "source": [
    "# Открываем txt файл адресами имеющий следующую структуру: nom_doc source_address Path Year\n",
    "# с разделителем tab"
   ]
  },
  {
   "cell_type": "code",
   "execution_count": null,
   "metadata": {},
   "outputs": [],
   "source": [
    "data_g = open(r\"path/to/txt_file\", 'r')\n",
    "data = data_g.readlines()"
   ]
  },
  {
   "cell_type": "code",
   "execution_count": null,
   "metadata": {},
   "outputs": [],
   "source": [
    "# Создаем txt файл для записи результатов"
   ]
  },
  {
   "cell_type": "code",
   "execution_count": null,
   "metadata": {},
   "outputs": [],
   "source": [
    "file_res = open(r\"geo_code_data.txt\", 'w+')\n",
    "file_res.writelines('nom_doc'+'\\t'+ 'source_address' + '\\t' + 'Path' +'\\t'+ 'Year' +'\\t'+'lat'+'\\t'+'lon'+'\\t'+'Yandex_adress'+'\\n')\n"
   ]
  },
  {
   "cell_type": "code",
   "execution_count": null,
   "metadata": {},
   "outputs": [],
   "source": [
    "# Заведите apikey в кабинете разработчика yandex"
   ]
  },
  {
   "cell_type": "code",
   "execution_count": null,
   "metadata": {},
   "outputs": [],
   "source": [
    "# Геокодирование объектов\n",
    "# Вставьте свой apikey\n",
    "apikey = \"past u apikey\"\n",
    "for k in range(len(data)):\n",
    "    try:\n",
    "        nom_doc = data[k].split('\\t')[0]\n",
    "        source_address = data[k].split('\\t')[1]\n",
    "        Path = data[k].split('\\t')[2]\n",
    "        Year = data[k].split('\\t')[3].replace('\\n','')\n",
    "        #ids = yandex_geocoder[k][0]\n",
    "        r = requests.get('https://geocode-maps.yandex.ru/1.x?geocode={}&apikey={}&format=json'.format('Москва, ' + source_address, apikey))\n",
    "        print('https://geocode-maps.yandex.ru/1.x?geocode={}&apikey={}&format=json'.format('Москва, ' + source_address, apikey))\n",
    "        coord = r.json()\n",
    "        Yandex_adress = coord['response']['GeoObjectCollection'][\"featureMember\"][0][\"GeoObject\"]['name']\n",
    "        lat, lon = (coor\"d['response']['GeoObjectCollection'][\"featureMember\"][0][\"GeoObject\"][\"Point\"][\"pos\"]).split(' ')\n",
    "    except:\n",
    "        source_address = \"no_adress\"\n",
    "        path_to_file = \"no_path\"\n",
    "        lat = 0\n",
    "        lon = 0\n",
    "        Yandex_adress = \"no_yandex_adress\"\n",
    "    file_res.writelines(str(nom_doc) +'\\t'+ str(source_address)+'\\t'+ str(Path)+'\\t'+str(Year)+'\\t'+ str(lat)+'\\t'+str(lon)+'\\t'+str(Yandex_adress)+'\\n')  \n",
    "    print(source_address)\n",
    "    print(Yandex_adress)\n",
    "    print(lat)\n",
    "    print(lon)"
   ]
  },
  {
   "cell_type": "code",
   "execution_count": null,
   "metadata": {},
   "outputs": [],
   "source": [
    "# Закрываем файл на запись, далее в любой гис открываем этот txt файл и создаем точки по координатам lat-long"
   ]
  },
  {
   "cell_type": "code",
   "execution_count": null,
   "metadata": {},
   "outputs": [],
   "source": [
    "file_res.close()"
   ]
  },
  {
   "cell_type": "code",
   "execution_count": null,
   "metadata": {},
   "outputs": [],
   "source": []
  }
 ],
 "metadata": {
  "kernelspec": {
   "display_name": "Python 3",
   "language": "python",
   "name": "python3"
  },
  "language_info": {
   "codemirror_mode": {
    "name": "ipython",
    "version": 3
   },
   "file_extension": ".py",
   "mimetype": "text/x-python",
   "name": "python",
   "nbconvert_exporter": "python",
   "pygments_lexer": "ipython3",
   "version": "3.7.0"
  }
 },
 "nbformat": 4,
 "nbformat_minor": 4
}
